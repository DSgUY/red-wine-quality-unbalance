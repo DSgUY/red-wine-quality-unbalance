{
  "cells": [
    {
      "cell_type": "markdown",
      "metadata": {
        "id": "YbcI9wMfOpG2"
      },
      "source": [
        "# Dataset Introduction"
      ]
    },
    {
      "cell_type": "markdown",
      "metadata": {
        "id": "6DNiYclbOsfs"
      },
      "source": [
        "In this project we want to predict the wine quality score. The score is a number between 0 and 10. The quality of a wine is determined by 11 input variables:\n",
        "\n",
        "* fixed acidity\n",
        "* volatile acidity\n",
        "* citric acid\n",
        "* residual sugar\n",
        "* chlorides\n",
        "* free sulfur dioxide\n",
        "* total sulfur dioxide\n",
        "* density\n",
        "* pH\n",
        "* sulfates\n",
        "* alcohol"
      ]
    },
    {
      "cell_type": "markdown",
      "metadata": {
        "id": "krkKU_ZbPS0K"
      },
      "source": [
        "# Exploratory Data Analysis"
      ]
    },
    {
      "cell_type": "code",
      "execution_count": 263,
      "metadata": {
        "id": "DgtvnGWXNDn9"
      },
      "outputs": [],
      "source": [
        "import pandas as pd\n",
        "import matplotlib.pyplot as plt\n",
        "import seaborn as sns\n",
        "\n",
        "from sklearn.model_selection import train_test_split\n",
        "from sklearn.ensemble import RandomForestClassifier\n",
        "from sklearn.model_selection import train_test_split, cross_val_score\n",
        "from sklearn.linear_model import LogisticRegression\n",
        "from sklearn.metrics import roc_auc_score, classification_report\n",
        "import xgboost as xgb\n",
        "\n",
        "# Unbalance class libraries\n",
        "from imblearn.over_sampling import SMOTE\n",
        "from collections import Counter\n",
        "\n",
        "import warnings\n",
        "warnings.filterwarnings('ignore')"
      ]
    },
    {
      "cell_type": "code",
      "execution_count": 264,
      "metadata": {
        "id": "Di9bjzPMNsPl"
      },
      "outputs": [],
      "source": [
        "# Load dataset from UCI\n",
        "df = pd.read_csv('https://archive.ics.uci.edu/ml/machine-learning-databases/wine-quality/winequality-red.csv', sep =';')\n"
      ]
    },
    {
      "cell_type": "code",
      "execution_count": 265,
      "metadata": {
        "colab": {
          "base_uri": "https://localhost:8080/",
          "height": 224
        },
        "id": "CHvuxR8SPYGU",
        "outputId": "0f5a4d91-2818-42f9-d5e2-3cc4dcae082f"
      },
      "outputs": [
        {
          "name": "stdout",
          "output_type": "stream",
          "text": [
            "(rows, columns) : (1599, 12)\n"
          ]
        },
        {
          "data": {
            "text/html": [
              "<div>\n",
              "<style scoped>\n",
              "    .dataframe tbody tr th:only-of-type {\n",
              "        vertical-align: middle;\n",
              "    }\n",
              "\n",
              "    .dataframe tbody tr th {\n",
              "        vertical-align: top;\n",
              "    }\n",
              "\n",
              "    .dataframe thead th {\n",
              "        text-align: right;\n",
              "    }\n",
              "</style>\n",
              "<table border=\"1\" class=\"dataframe\">\n",
              "  <thead>\n",
              "    <tr style=\"text-align: right;\">\n",
              "      <th></th>\n",
              "      <th>fixed acidity</th>\n",
              "      <th>volatile acidity</th>\n",
              "      <th>citric acid</th>\n",
              "      <th>residual sugar</th>\n",
              "      <th>chlorides</th>\n",
              "      <th>free sulfur dioxide</th>\n",
              "      <th>total sulfur dioxide</th>\n",
              "      <th>density</th>\n",
              "      <th>pH</th>\n",
              "      <th>sulphates</th>\n",
              "      <th>alcohol</th>\n",
              "      <th>quality</th>\n",
              "    </tr>\n",
              "  </thead>\n",
              "  <tbody>\n",
              "    <tr>\n",
              "      <th>0</th>\n",
              "      <td>7.4</td>\n",
              "      <td>0.70</td>\n",
              "      <td>0.00</td>\n",
              "      <td>1.9</td>\n",
              "      <td>0.076</td>\n",
              "      <td>11.0</td>\n",
              "      <td>34.0</td>\n",
              "      <td>0.9978</td>\n",
              "      <td>3.51</td>\n",
              "      <td>0.56</td>\n",
              "      <td>9.4</td>\n",
              "      <td>5</td>\n",
              "    </tr>\n",
              "    <tr>\n",
              "      <th>1</th>\n",
              "      <td>7.8</td>\n",
              "      <td>0.88</td>\n",
              "      <td>0.00</td>\n",
              "      <td>2.6</td>\n",
              "      <td>0.098</td>\n",
              "      <td>25.0</td>\n",
              "      <td>67.0</td>\n",
              "      <td>0.9968</td>\n",
              "      <td>3.20</td>\n",
              "      <td>0.68</td>\n",
              "      <td>9.8</td>\n",
              "      <td>5</td>\n",
              "    </tr>\n",
              "    <tr>\n",
              "      <th>2</th>\n",
              "      <td>7.8</td>\n",
              "      <td>0.76</td>\n",
              "      <td>0.04</td>\n",
              "      <td>2.3</td>\n",
              "      <td>0.092</td>\n",
              "      <td>15.0</td>\n",
              "      <td>54.0</td>\n",
              "      <td>0.9970</td>\n",
              "      <td>3.26</td>\n",
              "      <td>0.65</td>\n",
              "      <td>9.8</td>\n",
              "      <td>5</td>\n",
              "    </tr>\n",
              "    <tr>\n",
              "      <th>3</th>\n",
              "      <td>11.2</td>\n",
              "      <td>0.28</td>\n",
              "      <td>0.56</td>\n",
              "      <td>1.9</td>\n",
              "      <td>0.075</td>\n",
              "      <td>17.0</td>\n",
              "      <td>60.0</td>\n",
              "      <td>0.9980</td>\n",
              "      <td>3.16</td>\n",
              "      <td>0.58</td>\n",
              "      <td>9.8</td>\n",
              "      <td>6</td>\n",
              "    </tr>\n",
              "    <tr>\n",
              "      <th>4</th>\n",
              "      <td>7.4</td>\n",
              "      <td>0.70</td>\n",
              "      <td>0.00</td>\n",
              "      <td>1.9</td>\n",
              "      <td>0.076</td>\n",
              "      <td>11.0</td>\n",
              "      <td>34.0</td>\n",
              "      <td>0.9978</td>\n",
              "      <td>3.51</td>\n",
              "      <td>0.56</td>\n",
              "      <td>9.4</td>\n",
              "      <td>5</td>\n",
              "    </tr>\n",
              "  </tbody>\n",
              "</table>\n",
              "</div>"
            ],
            "text/plain": [
              "   fixed acidity  volatile acidity  citric acid  residual sugar  chlorides  \\\n",
              "0            7.4              0.70         0.00             1.9      0.076   \n",
              "1            7.8              0.88         0.00             2.6      0.098   \n",
              "2            7.8              0.76         0.04             2.3      0.092   \n",
              "3           11.2              0.28         0.56             1.9      0.075   \n",
              "4            7.4              0.70         0.00             1.9      0.076   \n",
              "\n",
              "   free sulfur dioxide  total sulfur dioxide  density    pH  sulphates  \\\n",
              "0                 11.0                  34.0   0.9978  3.51       0.56   \n",
              "1                 25.0                  67.0   0.9968  3.20       0.68   \n",
              "2                 15.0                  54.0   0.9970  3.26       0.65   \n",
              "3                 17.0                  60.0   0.9980  3.16       0.58   \n",
              "4                 11.0                  34.0   0.9978  3.51       0.56   \n",
              "\n",
              "   alcohol  quality  \n",
              "0      9.4        5  \n",
              "1      9.8        5  \n",
              "2      9.8        5  \n",
              "3      9.8        6  \n",
              "4      9.4        5  "
            ]
          },
          "execution_count": 265,
          "metadata": {},
          "output_type": "execute_result"
        }
      ],
      "source": [
        "# Number of rows and columns\n",
        "print(\"(rows, columns) : \" + str(df.shape))\n",
        "\n",
        "# First five rows of the dataset\n",
        "df.head(n=5)"
      ]
    },
    {
      "cell_type": "markdown",
      "metadata": {
        "id": "SbE8bqbGSFq0"
      },
      "source": [
        "This dataset has 1599 observations, 11 features and 1 target variable. "
      ]
    },
    {
      "cell_type": "code",
      "execution_count": 266,
      "metadata": {
        "colab": {
          "base_uri": "https://localhost:8080/"
        },
        "id": "FcB-8tIGQcw7",
        "outputId": "35cd87f5-97c6-4ed3-a159-616328afb623"
      },
      "outputs": [
        {
          "name": "stdout",
          "output_type": "stream",
          "text": [
            "<class 'pandas.core.frame.DataFrame'>\n",
            "RangeIndex: 1599 entries, 0 to 1598\n",
            "Data columns (total 12 columns):\n",
            " #   Column                Non-Null Count  Dtype  \n",
            "---  ------                --------------  -----  \n",
            " 0   fixed acidity         1599 non-null   float64\n",
            " 1   volatile acidity      1599 non-null   float64\n",
            " 2   citric acid           1599 non-null   float64\n",
            " 3   residual sugar        1599 non-null   float64\n",
            " 4   chlorides             1599 non-null   float64\n",
            " 5   free sulfur dioxide   1599 non-null   float64\n",
            " 6   total sulfur dioxide  1599 non-null   float64\n",
            " 7   density               1599 non-null   float64\n",
            " 8   pH                    1599 non-null   float64\n",
            " 9   sulphates             1599 non-null   float64\n",
            " 10  alcohol               1599 non-null   float64\n",
            " 11  quality               1599 non-null   int64  \n",
            "dtypes: float64(11), int64(1)\n",
            "memory usage: 150.0 KB\n"
          ]
        }
      ],
      "source": [
        "# Data Types\n",
        "df.info()"
      ]
    },
    {
      "cell_type": "markdown",
      "metadata": {
        "id": "imKRFAV3RRtF"
      },
      "source": [
        "We can see that our dataset has only floats (features) and integer values (target variable). Non of the variable column has null or missing values."
      ]
    },
    {
      "cell_type": "code",
      "execution_count": 267,
      "metadata": {
        "colab": {
          "base_uri": "https://localhost:8080/",
          "height": 426
        },
        "id": "6u-hy54rQbvF",
        "outputId": "8d926ea5-af37-41b2-d158-7c05f6bd9348"
      },
      "outputs": [
        {
          "data": {
            "text/html": [
              "<div>\n",
              "<style scoped>\n",
              "    .dataframe tbody tr th:only-of-type {\n",
              "        vertical-align: middle;\n",
              "    }\n",
              "\n",
              "    .dataframe tbody tr th {\n",
              "        vertical-align: top;\n",
              "    }\n",
              "\n",
              "    .dataframe thead th {\n",
              "        text-align: right;\n",
              "    }\n",
              "</style>\n",
              "<table border=\"1\" class=\"dataframe\">\n",
              "  <thead>\n",
              "    <tr style=\"text-align: right;\">\n",
              "      <th></th>\n",
              "      <th>count</th>\n",
              "      <th>mean</th>\n",
              "      <th>std</th>\n",
              "      <th>min</th>\n",
              "      <th>25%</th>\n",
              "      <th>50%</th>\n",
              "      <th>75%</th>\n",
              "      <th>max</th>\n",
              "    </tr>\n",
              "  </thead>\n",
              "  <tbody>\n",
              "    <tr>\n",
              "      <th>fixed acidity</th>\n",
              "      <td>1599.0</td>\n",
              "      <td>8.319637</td>\n",
              "      <td>1.741096</td>\n",
              "      <td>4.60000</td>\n",
              "      <td>7.1000</td>\n",
              "      <td>7.90000</td>\n",
              "      <td>9.200000</td>\n",
              "      <td>15.90000</td>\n",
              "    </tr>\n",
              "    <tr>\n",
              "      <th>volatile acidity</th>\n",
              "      <td>1599.0</td>\n",
              "      <td>0.527821</td>\n",
              "      <td>0.179060</td>\n",
              "      <td>0.12000</td>\n",
              "      <td>0.3900</td>\n",
              "      <td>0.52000</td>\n",
              "      <td>0.640000</td>\n",
              "      <td>1.58000</td>\n",
              "    </tr>\n",
              "    <tr>\n",
              "      <th>citric acid</th>\n",
              "      <td>1599.0</td>\n",
              "      <td>0.270976</td>\n",
              "      <td>0.194801</td>\n",
              "      <td>0.00000</td>\n",
              "      <td>0.0900</td>\n",
              "      <td>0.26000</td>\n",
              "      <td>0.420000</td>\n",
              "      <td>1.00000</td>\n",
              "    </tr>\n",
              "    <tr>\n",
              "      <th>residual sugar</th>\n",
              "      <td>1599.0</td>\n",
              "      <td>2.538806</td>\n",
              "      <td>1.409928</td>\n",
              "      <td>0.90000</td>\n",
              "      <td>1.9000</td>\n",
              "      <td>2.20000</td>\n",
              "      <td>2.600000</td>\n",
              "      <td>15.50000</td>\n",
              "    </tr>\n",
              "    <tr>\n",
              "      <th>chlorides</th>\n",
              "      <td>1599.0</td>\n",
              "      <td>0.087467</td>\n",
              "      <td>0.047065</td>\n",
              "      <td>0.01200</td>\n",
              "      <td>0.0700</td>\n",
              "      <td>0.07900</td>\n",
              "      <td>0.090000</td>\n",
              "      <td>0.61100</td>\n",
              "    </tr>\n",
              "    <tr>\n",
              "      <th>free sulfur dioxide</th>\n",
              "      <td>1599.0</td>\n",
              "      <td>15.874922</td>\n",
              "      <td>10.460157</td>\n",
              "      <td>1.00000</td>\n",
              "      <td>7.0000</td>\n",
              "      <td>14.00000</td>\n",
              "      <td>21.000000</td>\n",
              "      <td>72.00000</td>\n",
              "    </tr>\n",
              "    <tr>\n",
              "      <th>total sulfur dioxide</th>\n",
              "      <td>1599.0</td>\n",
              "      <td>46.467792</td>\n",
              "      <td>32.895324</td>\n",
              "      <td>6.00000</td>\n",
              "      <td>22.0000</td>\n",
              "      <td>38.00000</td>\n",
              "      <td>62.000000</td>\n",
              "      <td>289.00000</td>\n",
              "    </tr>\n",
              "    <tr>\n",
              "      <th>density</th>\n",
              "      <td>1599.0</td>\n",
              "      <td>0.996747</td>\n",
              "      <td>0.001887</td>\n",
              "      <td>0.99007</td>\n",
              "      <td>0.9956</td>\n",
              "      <td>0.99675</td>\n",
              "      <td>0.997835</td>\n",
              "      <td>1.00369</td>\n",
              "    </tr>\n",
              "    <tr>\n",
              "      <th>pH</th>\n",
              "      <td>1599.0</td>\n",
              "      <td>3.311113</td>\n",
              "      <td>0.154386</td>\n",
              "      <td>2.74000</td>\n",
              "      <td>3.2100</td>\n",
              "      <td>3.31000</td>\n",
              "      <td>3.400000</td>\n",
              "      <td>4.01000</td>\n",
              "    </tr>\n",
              "    <tr>\n",
              "      <th>sulphates</th>\n",
              "      <td>1599.0</td>\n",
              "      <td>0.658149</td>\n",
              "      <td>0.169507</td>\n",
              "      <td>0.33000</td>\n",
              "      <td>0.5500</td>\n",
              "      <td>0.62000</td>\n",
              "      <td>0.730000</td>\n",
              "      <td>2.00000</td>\n",
              "    </tr>\n",
              "    <tr>\n",
              "      <th>alcohol</th>\n",
              "      <td>1599.0</td>\n",
              "      <td>10.422983</td>\n",
              "      <td>1.065668</td>\n",
              "      <td>8.40000</td>\n",
              "      <td>9.5000</td>\n",
              "      <td>10.20000</td>\n",
              "      <td>11.100000</td>\n",
              "      <td>14.90000</td>\n",
              "    </tr>\n",
              "    <tr>\n",
              "      <th>quality</th>\n",
              "      <td>1599.0</td>\n",
              "      <td>5.636023</td>\n",
              "      <td>0.807569</td>\n",
              "      <td>3.00000</td>\n",
              "      <td>5.0000</td>\n",
              "      <td>6.00000</td>\n",
              "      <td>6.000000</td>\n",
              "      <td>8.00000</td>\n",
              "    </tr>\n",
              "  </tbody>\n",
              "</table>\n",
              "</div>"
            ],
            "text/plain": [
              "                       count       mean        std      min      25%  \\\n",
              "fixed acidity         1599.0   8.319637   1.741096  4.60000   7.1000   \n",
              "volatile acidity      1599.0   0.527821   0.179060  0.12000   0.3900   \n",
              "citric acid           1599.0   0.270976   0.194801  0.00000   0.0900   \n",
              "residual sugar        1599.0   2.538806   1.409928  0.90000   1.9000   \n",
              "chlorides             1599.0   0.087467   0.047065  0.01200   0.0700   \n",
              "free sulfur dioxide   1599.0  15.874922  10.460157  1.00000   7.0000   \n",
              "total sulfur dioxide  1599.0  46.467792  32.895324  6.00000  22.0000   \n",
              "density               1599.0   0.996747   0.001887  0.99007   0.9956   \n",
              "pH                    1599.0   3.311113   0.154386  2.74000   3.2100   \n",
              "sulphates             1599.0   0.658149   0.169507  0.33000   0.5500   \n",
              "alcohol               1599.0  10.422983   1.065668  8.40000   9.5000   \n",
              "quality               1599.0   5.636023   0.807569  3.00000   5.0000   \n",
              "\n",
              "                           50%        75%        max  \n",
              "fixed acidity          7.90000   9.200000   15.90000  \n",
              "volatile acidity       0.52000   0.640000    1.58000  \n",
              "citric acid            0.26000   0.420000    1.00000  \n",
              "residual sugar         2.20000   2.600000   15.50000  \n",
              "chlorides              0.07900   0.090000    0.61100  \n",
              "free sulfur dioxide   14.00000  21.000000   72.00000  \n",
              "total sulfur dioxide  38.00000  62.000000  289.00000  \n",
              "density                0.99675   0.997835    1.00369  \n",
              "pH                     3.31000   3.400000    4.01000  \n",
              "sulphates              0.62000   0.730000    2.00000  \n",
              "alcohol               10.20000  11.100000   14.90000  \n",
              "quality                6.00000   6.000000    8.00000  "
            ]
          },
          "execution_count": 267,
          "metadata": {},
          "output_type": "execute_result"
        }
      ],
      "source": [
        "# summary statistics for features\n",
        "df.describe().T"
      ]
    },
    {
      "cell_type": "markdown",
      "metadata": {
        "id": "zomc_7BSSzxV"
      },
      "source": [
        "There is a large difference between 75th percentile and max values of features \"residual sugar\", \"free sulfur dioxide\", \"total sulfur dioxide\" suggesting we have outliers in our dataset."
      ]
    },
    {
      "cell_type": "code",
      "execution_count": 268,
      "metadata": {
        "colab": {
          "base_uri": "https://localhost:8080/"
        },
        "id": "L6JLQc6oPzJL",
        "outputId": "873ea956-2e73-4bb9-b3a0-09c77e5f6963"
      },
      "outputs": [
        {
          "name": "stdout",
          "output_type": "stream",
          "text": [
            "3     10\n",
            "4     53\n",
            "5    681\n",
            "6    638\n",
            "7    199\n",
            "8     18\n",
            "Name: quality, dtype: int64\n"
          ]
        }
      ],
      "source": [
        "# summary statistics target variable\n",
        "print(df.quality.value_counts().sort_index())"
      ]
    },
    {
      "cell_type": "markdown",
      "metadata": {
        "id": "VJ-f4kjTVwTr"
      },
      "source": [
        "\"quality\" score ranges from 1 to 10 but we can see that wines scores in this dataset are between 3 to 8. Also that this dataset is not balance as we have most values concentrated in the categories 5, 6 and 7."
      ]
    },
    {
      "cell_type": "code",
      "execution_count": 269,
      "metadata": {
        "colab": {
          "base_uri": "https://localhost:8080/"
        },
        "id": "3jRHsrEPW3av",
        "outputId": "1532f958-b696-4e25-e3e7-2a48e922a4c4"
      },
      "outputs": [
        {
          "data": {
            "text/plain": [
              "240"
            ]
          },
          "execution_count": 269,
          "metadata": {},
          "output_type": "execute_result"
        }
      ],
      "source": [
        "df.duplicated().sum()"
      ]
    },
    {
      "cell_type": "markdown",
      "metadata": {
        "id": "oJuNzLokW5Gp"
      },
      "source": [
        "We assume that the duplicated rows are from several wine tasters rating the same wine similarly. So we keep all the observations as this can add more information."
      ]
    },
    {
      "cell_type": "markdown",
      "metadata": {
        "id": "XcZwqaf5fbMK"
      },
      "source": [
        "## Outliers"
      ]
    },
    {
      "cell_type": "code",
      "execution_count": 270,
      "metadata": {
        "colab": {
          "base_uri": "https://localhost:8080/",
          "height": 296
        },
        "id": "SCew8awpfddS",
        "outputId": "dc84882b-832b-4e98-8294-4ac0eff46e42"
      },
      "outputs": [
        {
          "data": {
            "text/plain": [
              "<AxesSubplot:xlabel='residual sugar'>"
            ]
          },
          "execution_count": 270,
          "metadata": {},
          "output_type": "execute_result"
        },
        {
          "data": {
            "image/png": "[encoded data removed]",
            "text/plain": [
              "<Figure size 432x288 with 1 Axes>"
            ]
          },
          "metadata": {
            "needs_background": "light"
          },
          "output_type": "display_data"
        }
      ],
      "source": [
        "sns.boxplot(x='residual sugar', data=df, orient = 'h')"
      ]
    },
    {
      "cell_type": "code",
      "execution_count": 271,
      "metadata": {
        "colab": {
          "base_uri": "https://localhost:8080/"
        },
        "id": "z9MRjjekdcO0",
        "outputId": "bce1680b-c4fe-4f7e-a78c-627c44ad1a3c"
      },
      "outputs": [
        {
          "name": "stdout",
          "output_type": "stream",
          "text": [
            "fixed acidity            15.90000\n",
            "volatile acidity          1.58000\n",
            "citric acid               1.00000\n",
            "residual sugar           15.50000\n",
            "chlorides                 0.61100\n",
            "free sulfur dioxide      72.00000\n",
            "total sulfur dioxide    289.00000\n",
            "density                   1.00369\n",
            "pH                        4.01000\n",
            "sulphates                 2.00000\n",
            "alcohol                  14.90000\n",
            "quality                   8.00000\n",
            "dtype: float64\n",
            "fixed acidity            13.300000\n",
            "volatile acidity          1.020000\n",
            "citric acid               0.700200\n",
            "residual sugar            8.306000\n",
            "chlorides                 0.360160\n",
            "free sulfur dioxide      50.020000\n",
            "total sulfur dioxide    145.000000\n",
            "density                   1.001506\n",
            "pH                        3.700200\n",
            "sulphates                 1.260400\n",
            "alcohol                  13.400000\n",
            "quality                   8.000000\n",
            "dtype: float64\n",
            "(1599, 12)\n"
          ]
        }
      ],
      "source": [
        "# If we remove outliers with z-score we lost 9% of the data and observation for the quality score '3'.\n",
        "# We use flooring and capping to calculate 1% and 99% to replace outliers.\n",
        "\n",
        "# Print data maximums \n",
        "print(df.max())\n",
        "\n",
        "for col in df.columns.difference(['quality']):\n",
        "    percentiles = df[col].quantile([0.01, 0.99]).values\n",
        "    df[col] = df[col].clip(percentiles[0], percentiles[1])\n",
        "\n",
        "# Print data maximums after capping and flooring\n",
        "print(df.max())\n",
        "print(df.shape)\n"
      ]
    },
    {
      "cell_type": "markdown",
      "metadata": {
        "id": "opbaSs3vKPZb"
      },
      "source": [
        "# Feature Selection"
      ]
    },
    {
      "cell_type": "markdown",
      "metadata": {
        "id": "KInV3B798oeO"
      },
      "source": [
        "## Correlation"
      ]
    },
    {
      "cell_type": "code",
      "execution_count": 272,
      "metadata": {
        "colab": {
          "base_uri": "https://localhost:8080/",
          "height": 696
        },
        "id": "RsU68nC7KTgS",
        "outputId": "d7296045-f6ec-46cd-eff6-d5250623eb5b"
      },
      "outputs": [
        {
          "data": {
            "text/plain": [
              "<AxesSubplot:>"
            ]
          },
          "execution_count": 272,
          "metadata": {},
          "output_type": "execute_result"
        },
        {
          "data": {
            "image/png": "[encoded data removed]",
            "text/plain": [
              "<Figure size 1080x720 with 2 Axes>"
            ]
          },
          "metadata": {
            "needs_background": "light"
          },
          "output_type": "display_data"
        }
      ],
      "source": [
        "corr = df.corr()\n",
        "plt.subplots(figsize=(15,10))\n",
        "sns.heatmap(corr, xticklabels=corr.columns, yticklabels=corr.columns, annot=True, cmap=sns.diverging_palette(220, 20, as_cmap=True))"
      ]
    },
    {
      "cell_type": "markdown",
      "metadata": {
        "id": "UMmgUadmYyqG"
      },
      "source": [
        "Although none of the columns show high correlation with the target colummn, we can say that Alcohol, Sulphates, Volatile acidity have the highest correlations."
      ]
    },
    {
      "cell_type": "code",
      "execution_count": 273,
      "metadata": {
        "colab": {
          "base_uri": "https://localhost:8080/"
        },
        "id": "CE9eKwhVK80e",
        "outputId": "7d9b619e-61a4-454e-cfa2-a535585f82ae"
      },
      "outputs": [
        {
          "name": "stdout",
          "output_type": "stream",
          "text": [
            "Train set: (1279, 11) (1279,)\n",
            "Test set: (320, 11) (320,)\n"
          ]
        }
      ],
      "source": [
        "X = df.drop('quality', axis=1)\n",
        "y = df['quality']\n",
        "\n",
        "X_train, X_test, y_train, y_test = train_test_split(X, y, test_size=0.2, random_state = seed)\n",
        "print ('Train set:', X_train.shape, y_train.shape)\n",
        "print ('Test set:', X_test.shape, y_test.shape)"
      ]
    },
    {
      "cell_type": "markdown",
      "metadata": {
        "id": "UrkWMUIFKwBL"
      },
      "source": [
        "# Models"
      ]
    },
    {
      "cell_type": "markdown",
      "metadata": {
        "id": "ljvboNz0uu77"
      },
      "source": [
        "## Unchanged dataset"
      ]
    },
    {
      "cell_type": "markdown",
      "metadata": {
        "id": "N9RAG0cypR6F"
      },
      "source": [
        "### Logistic Regression"
      ]
    },
    {
      "cell_type": "code",
      "execution_count": 274,
      "metadata": {
        "id": "eHC6-d4I_WVe"
      },
      "outputs": [],
      "source": [
        "seed = 2"
      ]
    },
    {
      "cell_type": "code",
      "execution_count": 275,
      "metadata": {
        "colab": {
          "base_uri": "https://localhost:8080/"
        },
        "id": "bTgem9J6pgue",
        "outputId": "10f5961d-19f3-430c-d6da-69cc0bb79445"
      },
      "outputs": [
        {
          "name": "stdout",
          "output_type": "stream",
          "text": [
            "              precision    recall  f1-score   support\n",
            "\n",
            "           3      1.000     0.000     0.000         1\n",
            "           4      1.000     0.000     0.000         9\n",
            "           5      0.594     0.754     0.664       122\n",
            "           6      0.613     0.592     0.602       147\n",
            "           7      0.478     0.306     0.373        36\n",
            "           8      1.000     0.000     0.000         5\n",
            "\n",
            "    accuracy                          0.594       320\n",
            "   macro avg      0.781     0.275     0.273       320\n",
            "weighted avg      0.608     0.594     0.572       320\n",
            "\n",
            "cross validation score with roc_auc 0.7879195562124399\n",
            "roc_auc_score 0.8029223959816988\n"
          ]
        }
      ],
      "source": [
        "# Train and fit model\n",
        "logreg = LogisticRegression(multi_class='multinomial', solver ='newton-cg', random_state = seed)\n",
        "logreg.fit(X_train, y_train)\n",
        "\n",
        "# Predict out-of-sample test set\n",
        "y_pred = logreg.predict(X_test)\n",
        "\n",
        "# classification report\n",
        "print(classification_report(y_test, y_pred, digits=3, zero_division = 1))\n",
        "\n",
        "# Calculate cv score with ‘roc_auc_ovr’ scoring and 10 folds\n",
        "accuracy = cross_val_score (logreg, X, y, scoring = 'roc_auc_ovr', cv=10)\n",
        "print('cross validation score with roc_auc',accuracy.mean())\n",
        "\n",
        "\n",
        "# Calculate roc_auc score with multiclass parameter\n",
        "print('roc_auc_score', roc_auc_score(y_test, logreg.predict_proba(X_test), multi_class='ovr'))"
      ]
    },
    {
      "cell_type": "markdown",
      "metadata": {
        "id": "p10EuA6kp3-x"
      },
      "source": [
        "Scores 3, 4 and 8 have not been taken into consideration when training because their recall results are zero. This means, these classes were not predicted correctly. This is not a good model for our dataset."
      ]
    },
    {
      "cell_type": "markdown",
      "metadata": {
        "id": "BdIktsA-KrzR"
      },
      "source": [
        "### Random Forest"
      ]
    },
    {
      "cell_type": "code",
      "execution_count": 276,
      "metadata": {
        "colab": {
          "base_uri": "https://localhost:8080/"
        },
        "id": "4dBrKmO8K0SQ",
        "outputId": "07de3dd6-3f47-4bc8-e515-ea36fa0ab7be"
      },
      "outputs": [
        {
          "name": "stdout",
          "output_type": "stream",
          "text": [
            "              precision    recall  f1-score   support\n",
            "\n",
            "           3      1.000     0.000     0.000         1\n",
            "           4      1.000     0.000     0.000         9\n",
            "           5      0.638     0.779     0.701       122\n",
            "           6      0.687     0.612     0.647       147\n",
            "           7      0.538     0.583     0.560        36\n",
            "           8      1.000     0.200     0.333         5\n",
            "\n",
            "    accuracy                          0.647       320\n",
            "   macro avg      0.811     0.362     0.374       320\n",
            "weighted avg      0.666     0.647     0.633       320\n",
            "\n",
            "cross validation score with roc_auc 0.7980835483791368\n",
            "roc_auc_score 0.8678871098697728\n"
          ]
        }
      ],
      "source": [
        "# Train and fit the Random Forest Classification model\n",
        "rf = RandomForestClassifier(random_state = seed)\n",
        "rf.fit(X_train, y_train)\n",
        "\n",
        "# Test out-of-sample test set\n",
        "y_pred = rf.predict(X_test)\n",
        "\n",
        "# Classification report\n",
        "print(classification_report(y_test, y_pred, digits=3, zero_division = 1))\n",
        "\n",
        "# Calculate cv score with ‘roc_auc_ovr’ scoring and 10 folds\n",
        "accuracy = cross_val_score (rf, X, y, scoring = 'roc_auc_ovr', cv=10)\n",
        "print('cross validation score with roc_auc',accuracy.mean())\n",
        "\n",
        "# Calculate roc_auc score with multiclass parameter\n",
        "print('roc_auc_score', roc_auc_score(y_test, rf.predict_proba(X_test), multi_class='ovr'))"
      ]
    },
    {
      "cell_type": "code",
      "execution_count": 277,
      "metadata": {
        "colab": {
          "base_uri": "https://localhost:8080/"
        },
        "id": "Gn21PwX921gQ",
        "outputId": "b00d23dd-6aea-4d12-f48a-a0e6661fbcbd"
      },
      "outputs": [
        {
          "name": "stdout",
          "output_type": "stream",
          "text": [
            "              precision    recall  f1-score   support\n",
            "\n",
            "           3      1.000     0.000     0.000         1\n",
            "           4      0.000     0.000     0.000         9\n",
            "           5      0.657     0.770     0.709       122\n",
            "           6      0.708     0.660     0.683       147\n",
            "           7      0.595     0.611     0.603        36\n",
            "           8      1.000     0.200     0.333         5\n",
            "\n",
            "    accuracy                          0.669       320\n",
            "   macro avg      0.660     0.374     0.388       320\n",
            "weighted avg      0.662     0.669     0.657       320\n",
            "\n",
            "cross validation score with roc_auc 0.7684421350589004\n",
            "roc_auc_score 0.8532827893784697\n"
          ]
        }
      ],
      "source": [
        "# Train and fit the Random Forest Classification model\n",
        "xgbc = xgb.XGBClassifier(random_state = seed, objective='multi:softmax', num_class = 6, eval_metric='mlogloss')\n",
        "xgbc.fit(X_train, y_train)\n",
        "\n",
        "# Test out-of-sample test set\n",
        "y_pred = xgbc.predict(X_test)\n",
        "\n",
        "# Classification report\n",
        "print(classification_report(y_test, y_pred, digits=3, zero_division = 1))\n",
        "\n",
        "# Calculate cv score with ‘roc_auc_ovr’ scoring and 10 folds\n",
        "accuracy = cross_val_score (xgbc, X, y, scoring = 'roc_auc_ovr', cv=10)\n",
        "print('cross validation score with roc_auc',accuracy.mean())\n",
        "\n",
        "# Calculate roc_auc score with multiclass parameter\n",
        "print('roc_auc_score', roc_auc_score(y_test, xgbc.predict_proba(X_test), multi_class='ovr'))"
      ]
    },
    {
      "cell_type": "markdown",
      "metadata": {
        "id": "KlCv8LfOO8YY"
      },
      "source": [
        "If we have a high class imbalance we choose the f1 score because a high f1 score considers both precision and recall."
      ]
    },
    {
      "cell_type": "markdown",
      "metadata": {
        "id": "gK6g78Eeu2hU"
      },
      "source": [
        "## Handling imbalance dataset"
      ]
    },
    {
      "cell_type": "markdown",
      "metadata": {
        "id": "SzIlv9q5OvGA"
      },
      "source": [
        "We use SMOTE algorithm to oversample our unbalance dataset. SMOTE (Synthetic Minority Over-Sampling) algorithm creates synthetic minority class samples to increase the representation of minority classes."
      ]
    },
    {
      "cell_type": "code",
      "execution_count": 278,
      "metadata": {
        "colab": {
          "base_uri": "https://localhost:8080/"
        },
        "id": "ZjrWL4JkQInt",
        "outputId": "945a7026-04f5-4516-ce65-b0b9dbdb1fd4"
      },
      "outputs": [
        {
          "name": "stdout",
          "output_type": "stream",
          "text": [
            "[(3, 559), (4, 559), (5, 559), (6, 559), (7, 559), (8, 559)]\n"
          ]
        }
      ],
      "source": [
        "# Oversample training set to create a new training set\n",
        "oversample = SMOTE(random_state = seed)\n",
        "X_train_up, y_train_up = oversample.fit_resample(X_train, y_train.ravel())\n",
        "\n",
        "# summarize the new class distribution\n",
        "print(sorted(Counter(y_train_up).items()))"
      ]
    },
    {
      "cell_type": "markdown",
      "metadata": {
        "id": "3uXIljpSP04-"
      },
      "source": [
        "### Logistic Regression"
      ]
    },
    {
      "cell_type": "code",
      "execution_count": 279,
      "metadata": {
        "colab": {
          "base_uri": "https://localhost:8080/"
        },
        "id": "V2_6WEkCP3Ed",
        "outputId": "c15eb2f1-077c-40d7-9250-ef771afb4a59"
      },
      "outputs": [
        {
          "name": "stdout",
          "output_type": "stream",
          "text": [
            "              precision    recall  f1-score   support\n",
            "\n",
            "           3      0.000     0.000     0.000         1\n",
            "           4      0.077     0.333     0.125         9\n",
            "           5      0.670     0.533     0.594       122\n",
            "           6      0.632     0.327     0.430       147\n",
            "           7      0.288     0.472     0.358        36\n",
            "           8      0.083     0.400     0.138         5\n",
            "\n",
            "    accuracy                          0.422       320\n",
            "   macro avg      0.292     0.344     0.274       320\n",
            "weighted avg      0.581     0.422     0.470       320\n",
            "\n",
            "cross validation score with roc_auc 0.7879195562124399\n",
            "roc_auc_score 0.7742400129152381\n"
          ]
        }
      ],
      "source": [
        "#The model to the new train set\n",
        "logreg = LogisticRegression(multi_class='multinomial', solver ='newton-cg', random_state = seed)\n",
        "logreg.fit(X_train_up, y_train_up.ravel())\n",
        "\n",
        "# Test out-of-sample test set\n",
        "y_pred = logreg.predict(X_test)\n",
        "\n",
        "# Classification report\n",
        "print(classification_report(y_test, y_pred, digits=3, zero_division = 1))\n",
        "\n",
        "# Calculate cv score with ‘roc_auc_ovr’ scoring and 10 folds\n",
        "accuracy = cross_val_score (logreg, X, y, scoring = 'roc_auc_ovr', cv=10)\n",
        "print('cross validation score with roc_auc',accuracy.mean())\n",
        "\n",
        "# Calculate roc_auc score with multiclass parameter\n",
        "print('roc_auc_score', roc_auc_score(y_test, logreg.predict_proba(X_test), multi_class='ovr'))"
      ]
    },
    {
      "cell_type": "markdown",
      "metadata": {},
      "source": [
        "### Random Forest"
      ]
    },
    {
      "cell_type": "code",
      "execution_count": 280,
      "metadata": {
        "colab": {
          "base_uri": "https://localhost:8080/"
        },
        "id": "dWez6swhOMag",
        "outputId": "7b76743e-1716-4d69-b001-f58971573894"
      },
      "outputs": [
        {
          "name": "stdout",
          "output_type": "stream",
          "text": [
            "              precision    recall  f1-score   support\n",
            "\n",
            "           3      0.000     0.000     0.000         1\n",
            "           4      0.000     0.000     0.000         9\n",
            "           5      0.711     0.705     0.708       122\n",
            "           6      0.717     0.585     0.644       147\n",
            "           7      0.431     0.611     0.506        36\n",
            "           8      0.400     0.400     0.400         5\n",
            "\n",
            "    accuracy                          0.613       320\n",
            "   macro avg      0.376     0.384     0.376       320\n",
            "weighted avg      0.655     0.613     0.629       320\n",
            "\n",
            "cross validation score with roc_auc 0.7980835483791368\n",
            "roc_auc_score 0.8636697017479209\n"
          ]
        }
      ],
      "source": [
        "#The model to the new train set\n",
        "rf = RandomForestClassifier(random_state = seed)\n",
        "rf.fit(X_train_up, y_train_up.ravel())\n",
        "\n",
        "# Test out-of-sample test set\n",
        "y_pred = rf.predict(X_test)\n",
        "\n",
        "# Classification report\n",
        "print(classification_report(y_test, y_pred, digits=3, zero_division = 1))\n",
        "\n",
        "# Calculate cv score with ‘roc_auc_ovr’ scoring and 10 folds\n",
        "accuracy = cross_val_score (rf, X, y, scoring = 'roc_auc_ovr', cv=10)\n",
        "print('cross validation score with roc_auc',accuracy.mean())\n",
        "\n",
        "# Calculate roc_auc score with multiclass parameter\n",
        "print('roc_auc_score', roc_auc_score(y_test, rf.predict_proba(X_test), multi_class='ovr'))"
      ]
    },
    {
      "cell_type": "markdown",
      "metadata": {},
      "source": [
        "### Random XGBoost"
      ]
    },
    {
      "cell_type": "code",
      "execution_count": 281,
      "metadata": {
        "colab": {
          "base_uri": "https://localhost:8080/"
        },
        "id": "W-YHHSUm3VDB",
        "outputId": "ef97bcf2-2ac9-456f-9e46-abff3c30bae1"
      },
      "outputs": [
        {
          "name": "stdout",
          "output_type": "stream",
          "text": [
            "              precision    recall  f1-score   support\n",
            "\n",
            "           3      0.000     0.000     0.000         1\n",
            "           4      0.000     0.000     0.000         9\n",
            "           5      0.661     0.689     0.675       122\n",
            "           6      0.693     0.599     0.642       147\n",
            "           7      0.469     0.639     0.541        36\n",
            "           8      0.400     0.400     0.400         5\n",
            "\n",
            "    accuracy                          0.616       320\n",
            "   macro avg      0.371     0.388     0.376       320\n",
            "weighted avg      0.630     0.616     0.619       320\n",
            "\n",
            "cross validation score with roc_auc 0.7684421350589004\n",
            "roc_auc_score 0.8314777219059954\n"
          ]
        }
      ],
      "source": [
        "#The model to the new train set\n",
        "xgbc = xgb.XGBClassifier(random_state = seed, objective='multi:softmax', num_class = 6, eval_metric='mlogloss')\n",
        "xgbc.fit(X_train_up, y_train_up.ravel())\n",
        "\n",
        "# Test out-of-sample test set\n",
        "y_pred = xgbc.predict(X_test)\n",
        "\n",
        "# Classification report\n",
        "print(classification_report(y_test, y_pred, digits=3, zero_division = 1))\n",
        "\n",
        "# Calculate cv score with ‘roc_auc_ovr’ scoring and 10 folds\n",
        "accuracy = cross_val_score (xgbc, X, y, scoring = 'roc_auc_ovr', cv=10)\n",
        "print('cross validation score with roc_auc',accuracy.mean())\n",
        "\n",
        "# Calculate roc_auc score with multiclass parameter\n",
        "print('roc_auc_score', roc_auc_score(y_test, xgbc.predict_proba(X_test), multi_class='ovr'))\n"
      ]
    },
    {
      "cell_type": "markdown",
      "metadata": {},
      "source": [
        "# Conclusions\n"
      ]
    },
    {
      "cell_type": "markdown",
      "metadata": {},
      "source": [
        "* Althought wine quality scores are theoretically from 1 to 10 the datasets has scores between 3 and 8.\n",
        "* The dataset is extreme unbalance for scores 3, 4, 8 vs 5, 6, 7.\n",
        "* Scores 3, 4 and 8 have not been taken into consideration when training with the unbalance dataset.\n",
        "<br><br>\n",
        "* We use SMOTE algorithm to oversample our unbalance dataset. Despite scores 4 and 8 are now taken into consideration the precision is not good.\n",
        "* We can try another algorithm or techniques.\n",
        "* Logistic Regression, Random Forest and XGBoost perfom similary in the oversample dataset.\n",
        "<br><br>\n",
        "* We can change our initial problem from multiclass to a binary classification problem. We can defined a bottle of wine as ‘good quality’ if it had a quality score of 7 or higher, and if it had a score of less than 7, ‘bad quality’.\n",
        "* Also we can keep the multiclass classification problem using score bins from 0 to 5 (poor wine), 6 (good) and 7 or above (excellent)"
      ]
    }
  ],
  "metadata": {
    "colab": {
      "collapsed_sections": [],
      "name": "DataChallange IDATHA.ipynb",
      "provenance": []
    },
    "kernelspec": {
      "display_name": "Python 3",
      "name": "python3"
    },
    "language_info": {
      "codemirror_mode": {
        "name": "ipython",
        "version": 3
      },
      "file_extension": ".py",
      "mimetype": "text/x-python",
      "name": "python",
      "nbconvert_exporter": "python",
      "pygments_lexer": "ipython3",
      "version": "3.9.0"
    }
  },
  "nbformat": 4,
  "nbformat_minor": 0
}
